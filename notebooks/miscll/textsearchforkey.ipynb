{
 "cells": [
  {
   "cell_type": "code",
   "execution_count": null,
   "metadata": {},
   "outputs": [],
   "source": [
    "#terms = ['liner','collapse','table']"
   ]
  },
  {
   "cell_type": "markdown",
   "metadata": {},
   "source": [
    "# Reading all text from all documents"
   ]
  },
  {
   "cell_type": "code",
   "execution_count": 1,
   "metadata": {},
   "outputs": [
    {
     "name": "stderr",
     "output_type": "stream",
     "text": [
      "PdfReadWarning: Xref table not zero-indexed. ID numbers for objects will be corrected. [pdf.py:1736]\n"
     ]
    },
    {
     "name": "stdout",
     "output_type": "stream",
     "text": [
      "1\n"
     ]
    }
   ],
   "source": [
    "import PyPDF2\n",
    "import os\n",
    "\n",
    "path = \"C:/Users/Ranja.Sarkar/Desktop/new4\"\n",
    "documents = os.listdir(path)\n",
    "\n",
    "p2 = []\n",
    "p1 = []\n",
    "for document in documents:\n",
    "    if document.endswith(\".pdf\"):\n",
    "                \n",
    "        in_file = os.path.abspath(path + \"\\\\\" + document)\n",
    "        pdfileobject = open(in_file,'rb')\n",
    "        pdfreader = PyPDF2.PdfFileReader(pdfileobject)   \n",
    "        count = pdfreader.numPages\n",
    "        for i in range(count):\n",
    "             page = pdfreader.getPage(i)\n",
    "             \n",
    "             pp = page.extractText()\n",
    "             \n",
    "             p1.append(pp)\n",
    "        p2.append(p1)\n",
    "pagetxt = ''.join([str(elem) for elem in p2])\n",
    "\n",
    "print(len(documents))"
   ]
  },
  {
   "cell_type": "code",
   "execution_count": 2,
   "metadata": {},
   "outputs": [
    {
     "data": {
      "text/plain": [
       "148142"
      ]
     },
     "execution_count": 2,
     "metadata": {},
     "output_type": "execute_result"
    }
   ],
   "source": [
    "#pagetxt\n",
    "len(pagetxt)"
   ]
  },
  {
   "cell_type": "code",
   "execution_count": null,
   "metadata": {},
   "outputs": [],
   "source": [
    "PyPDF2.__version__"
   ]
  },
  {
   "cell_type": "code",
   "execution_count": 5,
   "metadata": {},
   "outputs": [],
   "source": [
    "from collections import OrderedDict\n",
    "import numpy as np\n",
    "import spacy\n",
    "from spacy.lang.en.stop_words import STOP_WORDS\n",
    "\n",
    "nlp = spacy.load('en_core_web_sm')\n",
    "#nlp.max_length = 100000000\n",
    "    \n",
    "class TextRank4Keyword():\n",
    "    \"\"\"Extract keywords from text\"\"\"\n",
    "    def __init__(self):\n",
    "        self.d = 0.85 #damping coefficient\n",
    "        self.min_diff = 1e-5 #convergence threshold\n",
    "        self.steps = 10 #iteration steps\n",
    "        self.node_weight = None # save keywords and its weight\n",
    "        \n",
    "        \n",
    "    def set_stopwords(self,stopwords):\n",
    "        for word in STOP_WORDS.union(set(stopwords)):\n",
    "            lexeme = nlp.vocab[word]\n",
    "            lexeme.is_stop = True\n",
    "            \n",
    "    def sentence_segment(self,doc,words_pos,lower):\n",
    "        \"\"\"Store words only in words_pos tag\"\"\"\n",
    "        sentences=[]\n",
    "        for sent in doc.sents:\n",
    "            selected_words = []\n",
    "            for token in sent:\n",
    "                if token.pos_ in words_pos and token.is_stop is False:\n",
    "                    if lower is True:\n",
    "                        selected_words.append(token.text.lower())\n",
    "                    else:\n",
    "                        selected_words.append(token.text)\n",
    "            sentences.append(selected_words)\n",
    "        return(sentences)\n",
    "\n",
    "    def get_vocab(self,sentences):\n",
    "        \"\"\"Get all tokens\"\"\"\n",
    "        vocab = OrderedDict()\n",
    "        i = 0\n",
    "        for sentence in sentences:\n",
    "            for word in sentence:\n",
    "                if word not in vocab:\n",
    "                    vocab[word] = i\n",
    "                    i += 1\n",
    "        return vocab\n",
    "    \n",
    "    def get_token_pairs(self, window_size, sentences):\n",
    "        \"\"\"Build token_pairs from windows in sentences\"\"\"\n",
    "\n",
    "        token_pairs = list()\n",
    "        for sentence in sentences:\n",
    "            for i, word in enumerate(sentence):\n",
    "                for j in range(i+1, i+window_size):\n",
    "                    if j >= len(sentence):\n",
    "                        break\n",
    "                    pair = (word, sentence[j])\n",
    "                    if pair not in token_pairs:\n",
    "                        token_pairs.append(pair)\n",
    "\n",
    "        return token_pairs\n",
    "    \n",
    "    def symmetrize(self, a):\n",
    "\n",
    "        return a + a.T - np.diag(a.diagonal())\n",
    "\n",
    "\n",
    "    def get_matrix(self, vocab, token_pairs):\n",
    "        \"\"\"Get normalized matrix\"\"\"\n",
    "        # Build matrix\n",
    "\n",
    "        vocab_size = len(vocab)\n",
    "        g = np.zeros((vocab_size, vocab_size), dtype='float')\n",
    "        for word1, word2 in token_pairs:\n",
    "            i, j = vocab[word1], vocab[word2]\n",
    "            g[i][j] = 1\n",
    "         \n",
    "\n",
    "        # Get Symmeric matrix\n",
    "        g = self.symmetrize(g)\n",
    "\n",
    "        # Normalize matrix by column\n",
    "        norm = np.sum(g, axis=0)\n",
    "        g_norm = np.divide(g, norm, where=norm!=0) # this is to ignore 0 element in norm\n",
    "\n",
    "        return g_norm\n",
    "    \n",
    "    def get_keywords(self, number=10):\n",
    "        \"\"\"Print top number keywords\"\"\"\n",
    "        node_weight = OrderedDict(sorted(self.node_weight.items(), key=lambda t: t[1], reverse=True))\n",
    "        for i, (key, value) in enumerate(node_weight.items()):\n",
    "            print(key + ' - ' + str(value))\n",
    "            if i > number:\n",
    "                break\n",
    "    \n",
    "    def analyze(self, text, words_pos=['NOUN', 'PROPN', 'VERB','ADJECTIVE','ADVERB'], window_size=4, lower=False, stopwords=list()):\n",
    "        \n",
    "        \"\"\"Main function to analyze text\"\"\"\n",
    "      \n",
    "        # Set stop words\n",
    "        self.set_stopwords(stopwords)\n",
    "\n",
    "        # Parse text by spaCy\n",
    "        doc = nlp(text)\n",
    "               \n",
    "        # Filter sentences\n",
    "        sentences = self.sentence_segment(doc, words_pos, lower) \n",
    "     \n",
    "\n",
    "        # Build vocabulary\n",
    "        vocab = self.get_vocab(sentences)\n",
    "\n",
    "        \n",
    "        # Get token_pairs from windows\n",
    "        token_pairs = self.get_token_pairs(window_size, sentences)\n",
    "\n",
    "        \n",
    "        # Get normalized matrix\n",
    "        g = self.get_matrix(vocab, token_pairs)\n",
    "\n",
    "        \n",
    "        # Initialization for weight(pagerank value)\n",
    "        pr = np.array([1] * len(vocab))\n",
    "\n",
    "        # Iteration\n",
    "        previous_pr = 0\n",
    "\n",
    "        for epoch in range(self.steps):\n",
    "            pr = (1-self.d) + self.d * np.dot(g, pr)\n",
    "            if abs(previous_pr - sum(pr))  < self.min_diff:\n",
    "\n",
    "                break\n",
    "            else:\n",
    "                previous_pr = sum(pr)\n",
    "\n",
    "\n",
    "        # Get weight for each node\n",
    "        node_weight = dict()\n",
    "        for word, index in vocab.items():\n",
    "            node_weight[word] = pr[index]\n",
    "\n",
    "        self.node_weight = node_weight  "
   ]
  },
  {
   "cell_type": "code",
   "execution_count": 6,
   "metadata": {},
   "outputs": [
    {
     "name": "stdout",
     "output_type": "stream",
     "text": [
      "Equivalents - 16.98227217646927\n",
      "° - 16.0359006976695\n",
      "Physical - 14.374523293737797\n",
      "regulator - 7.372558339687367\n",
      "pressure - 6.7620363722435055\n",
      "% - 5.868815110970576\n",
      "pipe - 5.695602013722068\n",
      "Alloy - 5.67324715836257\n",
      "\\nASTM - 5.286513016279196\n",
      "® - 5.235840058315941\n",
      "Steel - 4.92290897103938\n",
      "Grade - 4.501782588351653\n"
     ]
    }
   ],
   "source": [
    "text = pagetxt\n",
    "tr4w = TextRank4Keyword()\n",
    "tr4w.analyze(text, words_pos = ['NOUN', 'PROPN','VERB','ADJECTIVE','ADVERB'], window_size=4, lower=False)\n",
    "#tr4w.get_keywords(10)\n",
    "#print(Keywords)\n",
    "tr4w.get_keywords()"
   ]
  },
  {
   "cell_type": "code",
   "execution_count": null,
   "metadata": {},
   "outputs": [],
   "source": [
    "#import pandas as pd \n",
    "\n",
    "#tt = pd.DataFrame(tr4w.get_keywords(),columns=['Keywords','Score'])\n",
    "#tt = tt.sort_values('weights',ascending=False)\n",
    "#tt"
   ]
  },
  {
   "cell_type": "code",
   "execution_count": null,
   "metadata": {},
   "outputs": [],
   "source": []
  },
  {
   "cell_type": "code",
   "execution_count": null,
   "metadata": {},
   "outputs": [],
   "source": []
  },
  {
   "cell_type": "code",
   "execution_count": null,
   "metadata": {},
   "outputs": [],
   "source": []
  }
 ],
 "metadata": {
  "kernelspec": {
   "display_name": "Python 3",
   "language": "python",
   "name": "python3"
  },
  "language_info": {
   "codemirror_mode": {
    "name": "ipython",
    "version": 3
   },
   "file_extension": ".py",
   "mimetype": "text/x-python",
   "name": "python",
   "nbconvert_exporter": "python",
   "pygments_lexer": "ipython3",
   "version": "3.6.8"
  }
 },
 "nbformat": 4,
 "nbformat_minor": 2
}
