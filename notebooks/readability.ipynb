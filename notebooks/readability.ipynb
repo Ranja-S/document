{
 "cells": [
  {
   "cell_type": "code",
   "execution_count": 1,
   "metadata": {},
   "outputs": [],
   "source": [
    "#LIBRARIES\n",
    "import numpy as np \n",
    "import pandas as pd \n",
    "from time import time\n",
    "import os\n",
    "import PyPDF2\n",
    "import string\n",
    "import pdfplumber\n",
    "\n",
    "\n",
    "class text():\n",
    "    '''The method that extracts info about .pdf (editable plus scanned) files in a dir/folder.'''\n",
    "    \n",
    "    def __init__(self, path):\n",
    "        self.type = ['pdf']\n",
    "        #self.package = None\n",
    "        self.package = 'pdfplumber'\n",
    "        #self.Table = False\n",
    "        self.Table = True\n",
    "        #self.path = None\n",
    "        self.path = path\n",
    "                       \n",
    "    def input_files(self):\n",
    "        l = os.listdir(self.path)\n",
    "        f = self.type\n",
    "        files =  [ [i for i in l if j in i]  for j in f]\n",
    "        files_flatten = [y for x in files for y in x]\n",
    "        return(files)\n",
    "    \n",
    "    def PYPDF_Reader(self, path):\n",
    "        file = open(path, 'rb')\n",
    "        fileReader = PyPDF2.PdfFileReader(file)\n",
    "        return(fileReader)\n",
    "    \n",
    "    def iter_flatten(self, iterable):\n",
    "        it = iter(iterable)\n",
    "        for e in it:\n",
    "            if isinstance(e, (list, tuple)):\n",
    "                for f in self.iter_flatten(e):\n",
    "                    yield f\n",
    "            else:\n",
    "                yield e\n",
    "    \n",
    "    def read_files(self):\n",
    "        \n",
    "        df = pd.DataFrame(columns = ['Document Title', '#pages', '#tables'])\n",
    "        files = self.input_files()\n",
    "        pdf_files = files[0]\n",
    "        \n",
    "        if self.package == 'PYPDF2' and self.Table == False:\n",
    "            \n",
    "            files_reader =[]\n",
    "            error_files = []\n",
    "            \n",
    "            for i in pdf_files:\n",
    "                try:\n",
    "                    files_reader.append(self.PYPDF_Reader(os.path.join(self.path, i)))\n",
    "                except Exception as e:\n",
    "                    print(e)\n",
    "                    error_files.append(str(i))\n",
    "                    pass           \n",
    "                        \n",
    "        elif self.package =='pdfplumber':\n",
    "            \n",
    "            document_text_concat = list()\n",
    "            files_reader = []\n",
    "            error_files = []\n",
    "            n_files = len(pdf_files)\n",
    "              \n",
    "            for i in pdf_files:\n",
    "                try:\n",
    "                    files_reader.append(pdfplumber.open(os.path.join(self.path, i)))\n",
    "                   # print(\"Document name:\",i)\n",
    "                    \n",
    "                    document_pages = [i.pages for i in files_reader]\n",
    "                    for j in document_pages:\n",
    "                        tt = []\n",
    "                        n = 0\n",
    "                        for m in j:\n",
    "                            tt.append(m.extract_tables())\n",
    "                            rr = m.extract_tables()\n",
    "                            n = n + len(rr)\n",
    "                    #print(\"Number of pages =\", len(tt))                        \n",
    "                    #print(\"Number of tables =\", n)\n",
    "                    df = df.append({'Document Title': i[:-4], '#pages': len(tt), '#tables': n}, ignore_index = True)\n",
    "                    \n",
    "                except Exception as e:\n",
    "                    print(\"Error:\", e,\",\", i)\n",
    "                    error_files.append(i)\n",
    "        \n",
    "        if not n_files == 0:\n",
    "            df.to_csv('pdf_info.csv')\n",
    "            print('File (.pdf) information output is created.')\n",
    "        return (print(\"Number of files in given directory =\", n_files)) \n",
    " "
   ]
  },
  {
   "cell_type": "code",
   "execution_count": 2,
   "metadata": {},
   "outputs": [
    {
     "name": "stdout",
     "output_type": "stream",
     "text": [
      "Number of files in given directory = 0\n"
     ]
    }
   ],
   "source": [
    "#CREATE OUTPUT csv file of info\n",
    "#dir name is test\n",
    "\n",
    "t = text('test')",
    "t.read_files()"
   ]
  },
  {
   "cell_type": "code",
   "execution_count": null,
   "metadata": {},
   "outputs": [],
   "source": []
  }
 ],
 "metadata": {
  "kernelspec": {
   "display_name": "Python 3",
   "language": "python",
   "name": "python3"
  },
  "language_info": {
   "codemirror_mode": {
    "name": "ipython",
    "version": 3
   },
   "file_extension": ".py",
   "mimetype": "text/x-python",
   "name": "python",
   "nbconvert_exporter": "python",
   "pygments_lexer": "ipython3",
   "version": "3.7.6"
  },
  "toc": {
   "base_numbering": 1,
   "nav_menu": {},
   "number_sections": true,
   "sideBar": true,
   "skip_h1_title": false,
   "title_cell": "Table of Contents",
   "title_sidebar": "Contents",
   "toc_cell": false,
   "toc_position": {},
   "toc_section_display": true,
   "toc_window_display": false
  },
  "varInspector": {
   "cols": {
    "lenName": 16,
    "lenType": 16,
    "lenVar": 40
   },
   "kernels_config": {
    "python": {
     "delete_cmd_postfix": "",
     "delete_cmd_prefix": "del ",
     "library": "var_list.py",
     "varRefreshCmd": "print(var_dic_list())"
    },
    "r": {
     "delete_cmd_postfix": ") ",
     "delete_cmd_prefix": "rm(",
     "library": "var_list.r",
     "varRefreshCmd": "cat(var_dic_list()) "
    }
   },
   "types_to_exclude": [
    "module",
    "function",
    "builtin_function_or_method",
    "instance",
    "_Feature"
   ],
   "window_display": false
  }
 },
 "nbformat": 4,
 "nbformat_minor": 2
}
