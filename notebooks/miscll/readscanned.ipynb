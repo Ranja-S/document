{
 "cells": [
  {
   "cell_type": "code",
   "execution_count": 8,
   "metadata": {},
   "outputs": [
    {
     "data": {
      "text/plain": [
       "''"
      ]
     },
     "execution_count": 8,
     "metadata": {},
     "output_type": "execute_result"
    }
   ],
   "source": [
    "import PyPDF2 \n",
    "import warnings\n",
    "warnings.filterwarnings(\"ignore\")\n",
    "\n",
    "file = \"1108.pdf\"\n",
    "\n",
    "pdfFileObj = open(file, 'rb') \n",
    "pdfreader = PyPDF2.PdfFileReader(pdfFileObj) \n",
    "count = pdfreader.numPages\n",
    "#print(count)\n",
    "\n",
    "page = pdfreader.getPage(0)\n",
    "page.extractText()\n",
    "\n",
    "\n",
    "#from pdfminer.high_level import extract_text\n",
    "\n",
    "##text = extract_text(\"_.pdf\")\n",
    "#text_pages = extract_text(\"_.pdf\", page_numbers = [0, 3])\n",
    "#print(text_pages)\n",
    "\n",
    "\n",
    "#ROTATION\n",
    "\n",
    "infile = PyPDF2.PdfFileReader(\"1108.PDF\", 'rb')\n",
    "pdfwriter = PyPDF2.PdfFileWriter()\n",
    "\n",
    "for i in range(1, 5):\n",
    "    page = infile.getPage(i).rotateClockwise(90)\n",
    "    pdfwriter.addPage(page)\n",
    "    \n",
    "with open('rotate_pages.pdf', 'wb') as fh:\n",
    "    pdfwriter.write(fh)"
   ]
  },
  {
   "cell_type": "code",
   "execution_count": 10,
   "metadata": {},
   "outputs": [
    {
     "data": {
      "text/plain": [
       "[]"
      ]
     },
     "execution_count": 10,
     "metadata": {},
     "output_type": "execute_result"
    }
   ],
   "source": [
    "import pdfplumber\n",
    "\n",
    "pdf = pdfplumber.open(\"1108.pdf\")\n",
    "pp = pdf.pages[0]\n",
    "pp.extract_tables()\n",
    "#print(pp)"
   ]
  }
 ],
 "metadata": {
  "kernelspec": {
   "display_name": "Python 3",
   "language": "python",
   "name": "python3"
  },
  "language_info": {
   "codemirror_mode": {
    "name": "ipython",
    "version": 3
   },
   "file_extension": ".py",
   "mimetype": "text/x-python",
   "name": "python",
   "nbconvert_exporter": "python",
   "pygments_lexer": "ipython3",
   "version": "3.7.6"
  },
  "toc": {
   "base_numbering": 1,
   "nav_menu": {},
   "number_sections": true,
   "sideBar": true,
   "skip_h1_title": false,
   "title_cell": "Table of Contents",
   "title_sidebar": "Contents",
   "toc_cell": false,
   "toc_position": {},
   "toc_section_display": true,
   "toc_window_display": false
  },
  "varInspector": {
   "cols": {
    "lenName": 16,
    "lenType": 16,
    "lenVar": 40
   },
   "kernels_config": {
    "python": {
     "delete_cmd_postfix": "",
     "delete_cmd_prefix": "del ",
     "library": "var_list.py",
     "varRefreshCmd": "print(var_dic_list())"
    },
    "r": {
     "delete_cmd_postfix": ") ",
     "delete_cmd_prefix": "rm(",
     "library": "var_list.r",
     "varRefreshCmd": "cat(var_dic_list()) "
    }
   },
   "types_to_exclude": [
    "module",
    "function",
    "builtin_function_or_method",
    "instance",
    "_Feature"
   ],
   "window_display": false
  }
 },
 "nbformat": 4,
 "nbformat_minor": 2
}
