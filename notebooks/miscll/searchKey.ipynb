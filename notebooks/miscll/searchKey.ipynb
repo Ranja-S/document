{
 "cells": [
  {
   "cell_type": "code",
   "execution_count": 3,
   "metadata": {},
   "outputs": [
    {
     "name": "stdout",
     "output_type": "stream",
     "text": [
      "['b', 'c']\n"
     ]
    }
   ],
   "source": [
    "#opposite of dictionary search\n",
    "\n",
    "d={\"a\": 5, \"b\": 55, \"c\": 55, \"d\": 6}\n",
    "\n",
    "search_key = lambda in_d, val: (k for k,v in in_d.items() if v == val)\n",
    "\n",
    "#for k in search_key(d, 55):\n",
    "#    print(k)\n",
    "\n",
    "\n",
    "key_list = list(search_key(d, 55))\n",
    "print(key_list)"
   ]
  },
  {
   "cell_type": "code",
   "execution_count": null,
   "metadata": {},
   "outputs": [],
   "source": []
  }
 ],
 "metadata": {
  "kernelspec": {
   "display_name": "Python 3",
   "language": "python",
   "name": "python3"
  },
  "language_info": {
   "codemirror_mode": {
    "name": "ipython",
    "version": 3
   },
   "file_extension": ".py",
   "mimetype": "text/x-python",
   "name": "python",
   "nbconvert_exporter": "python",
   "pygments_lexer": "ipython3",
   "version": "3.6.8"
  }
 },
 "nbformat": 4,
 "nbformat_minor": 2
}
